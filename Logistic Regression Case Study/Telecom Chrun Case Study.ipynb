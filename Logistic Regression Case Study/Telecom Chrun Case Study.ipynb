{
 "cells": [
  {
   "cell_type": "markdown",
   "id": "b8fdb4d1-6b22-4765-967c-db63276489c9",
   "metadata": {},
   "source": [
    "### **Logistic Regression : Telecom Churn Case Study**"
   ]
  },
  {
   "cell_type": "markdown",
   "id": "5d26abe0-1020-4507-b52c-6780765c8519",
   "metadata": {},
   "source": [
    "#### A Telecom company is losing Customers to its competitors. With the historical customer churn information that they have, they want a ML Model to predict, which of their present customers may churn. \n",
    "\n",
    "We have decided to create a `Logistic Regression` model to solve the problem. The Logistic Regression model will be expected to output a `Churn Probability` for every data under test. "
   ]
  },
  {
   "cell_type": "markdown",
   "id": "082f6c1b-78ac-4187-967f-c7d6723c3964",
   "metadata": {},
   "source": [
    "The input data is spread over 3 separate files - `churn_data.csv`, `cust_data.csv` and `internet_data.csv`. \n",
    "\n",
    "The Data includes the following: \n",
    "\n",
    "- `Personal Data (gender, children, whether senior citizen, dependents...)`\n",
    "- `Services Related (Tenure with the provider, payment method, internet packs purchased, special offers...)`\n",
    "- `Charges being incurred (Amount of recharge done per month...)`"
   ]
  },
  {
   "cell_type": "markdown",
   "id": "23f5f612-0a15-4581-bdfe-190bad805082",
   "metadata": {},
   "source": [
    "### Import Libraries"
   ]
  },
  {
   "cell_type": "code",
   "execution_count": 1,
   "id": "be7db8f6-d012-46c1-91f3-8a8683b9cacc",
   "metadata": {},
   "outputs": [],
   "source": [
    "import warnings\n",
    "warnings.filterwarnings('ignore')\n",
    "import numpy as np\n",
    "import pandas as pd\n",
    "import statsmodels.api as smd\n",
    "from sklearn.linear_model import LogisticRegression\n",
    "import scipy.stats as st\n",
    "import sklearn\n",
    "from sklearn.metrics import confusion_matrix\n",
    "import matplotlib.mlab as mlab\n",
    "import matplotlib.pyplot as plt \n",
    "import seaborn as sns"
   ]
  },
  {
   "cell_type": "markdown",
   "id": "572c1fe5-f4c1-485d-9aed-2538287022d2",
   "metadata": {},
   "source": [
    "### Import Datasets"
   ]
  },
  {
   "cell_type": "code",
   "execution_count": null,
   "id": "8f47016a-fcbf-448b-b444-ff5e68c2abed",
   "metadata": {},
   "outputs": [],
   "source": []
  }
 ],
 "metadata": {
  "kernelspec": {
   "display_name": "Python 3 (ipykernel)",
   "language": "python",
   "name": "python3"
  },
  "language_info": {
   "codemirror_mode": {
    "name": "ipython",
    "version": 3
   },
   "file_extension": ".py",
   "mimetype": "text/x-python",
   "name": "python",
   "nbconvert_exporter": "python",
   "pygments_lexer": "ipython3",
   "version": "3.11.7"
  }
 },
 "nbformat": 4,
 "nbformat_minor": 5
}
