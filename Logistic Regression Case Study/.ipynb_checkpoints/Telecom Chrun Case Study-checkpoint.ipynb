{
 "cells": [
  {
   "cell_type": "markdown",
   "id": "b8fdb4d1-6b22-4765-967c-db63276489c9",
   "metadata": {},
   "source": [
    "### **Logistic Regression : Telecom Churn Case Study**"
   ]
  },
  {
   "cell_type": "markdown",
   "id": "5d26abe0-1020-4507-b52c-6780765c8519",
   "metadata": {},
   "source": [
    "A Telecom company is losing Customers to its competitors. With the historical customer churn information that they have, they want a ML Model to predict, which of their present customers may churn.h...)"
   ]
  },
  {
   "cell_type": "markdown",
   "id": "082f6c1b-78ac-4187-967f-c7d6723c3964",
   "metadata": {},
   "source": [
    "We have decided to create a Logistic Regression model to solve the problem. The Logistic Regression model will be expected to output a Churn Probability for every data under test.\n",
    "\n",
    "The input data is spread over 3 separate files - churn_data.csv, cust_data.csv and internet_data.csv.\n",
    "\n",
    "The Data includes the following:\n",
    "• Personal Data (gender, children, whether senior citizen, dependents...)\n",
    "• Services Related (Tenure with the provider, payment method, internet packs purchased, special offers...) • Charges being incurred (Amount of recharge done per month...)"
   ]
  },
  {
   "cell_type": "code",
   "execution_count": null,
   "id": "1361f766-a5a5-48c2-890c-cf808c44a323",
   "metadata": {},
   "outputs": [],
   "source": []
  }
 ],
 "metadata": {
  "kernelspec": {
   "display_name": "Python 3 (ipykernel)",
   "language": "python",
   "name": "python3"
  },
  "language_info": {
   "codemirror_mode": {
    "name": "ipython",
    "version": 3
   },
   "file_extension": ".py",
   "mimetype": "text/x-python",
   "name": "python",
   "nbconvert_exporter": "python",
   "pygments_lexer": "ipython3",
   "version": "3.11.7"
  }
 },
 "nbformat": 4,
 "nbformat_minor": 5
}
