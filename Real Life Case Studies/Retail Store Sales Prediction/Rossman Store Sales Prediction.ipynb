{
 "cells": [
  {
   "cell_type": "markdown",
   "id": "3fd13f69-acb8-49a2-9545-055fccc17b02",
   "metadata": {},
   "source": [
    "## **ROSSMANN STORE SALES PREDICTION**"
   ]
  },
  {
   "cell_type": "markdown",
   "id": "6bb830c8-ecaa-4880-9245-16a41fb10201",
   "metadata": {},
   "source": [
    "#### B"
   ]
  }
 ],
 "metadata": {
  "kernelspec": {
   "display_name": "Python 3 (ipykernel)",
   "language": "python",
   "name": "python3"
  },
  "language_info": {
   "codemirror_mode": {
    "name": "ipython",
    "version": 3
   },
   "file_extension": ".py",
   "mimetype": "text/x-python",
   "name": "python",
   "nbconvert_exporter": "python",
   "pygments_lexer": "ipython3",
   "version": "3.11.7"
  }
 },
 "nbformat": 4,
 "nbformat_minor": 5
}
